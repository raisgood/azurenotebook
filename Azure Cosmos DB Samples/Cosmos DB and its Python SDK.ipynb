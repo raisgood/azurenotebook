{
 "cells": [
  {
   "cell_type": "markdown",
   "metadata": {},
   "source": [
    "<!-- https://www.documentdb.com/sql/demo -->\n",
    "\n",
    "# Table of Contents\n",
    "\n",
    "1. [What is Cosmos DB?](#What-is-Cosmos-DB?)\n",
    "    1. [More details](#More-details)\n",
    "2. [Playing with the Python SDK](#Playing-with-the-Python-SDK)\n",
    "    1. [Setup](#Setup)\n",
    "3. [Querying with SQL](#Querying-with-SQL)\n",
    "    1. [SQL syntax](#SQL-syntax)\n",
    "    2. [Filtering](#Filtering)\n",
    "    3. [`ORDER BY`](#ORDER-BY)\n",
    "    4. [`TOP`](#TOP)\n",
    "    5. [`IN` & `BETWEEN`](#IN-&-BETWEEN)\n",
    "    6. [Projection](#Projection)\n",
    "    7. [`JOIN`](#JOIN)\n",
    "    8. [Built-ins](#Built-ins)\n",
    "    9. [Geospatial support](#Geospatial-support)"
   ]
  },
  {
   "cell_type": "markdown",
   "metadata": {},
   "source": [
    "# What is Cosmos DB?\n",
    "[Cosmos DB](https://docs.microsoft.com/azure/cosmos-db/) (née DocumentDB) is a fully managed NoSQL database service built for fast and predictable performance, high availability, elastic scaling, global distribution, and ease of development. As a schema-free NoSQL database, Cosmos DB provides rich and familiar SQL query capabilities with consistent low latencies on JSON data - ensuring that 99% of your reads are served under 10 milliseconds and 99% of your writes are served under 15 milliseconds. These unique benefits make Cosmoa DB a great fit for web, mobile, gaming, and IoT, and many other applications that need seamless scale and global replication.\n",
    "\n",
    "Azure Cosmos DB offers the following key capabilities and benefits:\n",
    "- Elastically scalable throughput and storage (your data is stored on SSDs for low latencies with automatic scaling of your database as needed)\n",
    "- [Multi-region replication](https://docs.microsoft.com/azure/documentdb/documentdb-distribute-data-globally)\n",
    "- [Ad-hoc queries with familiar SQL syntax](https://docs.microsoft.com/azure/documentdb/documentdb-sql-query)\n",
    "- [JavaScript execution within the database](https://docs.microsoft.com/azure/documentdb/documentdb-programming)\n",
    "- [Tunable consistency levels](https://docs.microsoft.com/azure/documentdb/documentdb-consistency-levels)\n",
    "- Fully managed (no need to manage any resources related to your database)\n",
    "- Open by design (all functionality is accessible through JavaScript, JSON, and a REST interface or various SDKs)\n",
    "- [Automatic indexing](https://docs.microsoft.com/azure/documentdb/documentdb-indexing-policies)\n",
    "\n",
    "## More details\n",
    "If you would like to see more details, please read the [introduction to Cosmos DB](https://docs.microsoft.com/azure/cosmos-db/introduction) as well as the [explanation of the resource model and concepts](https://docs.microsoft.com/azure/documentdb/documentdb-resources). You can then follow the [Cosmos DB learning path](https://azure.microsoft.com/documentation/learning-paths/documentdb/) to learn about specific aspects of Cosmos DB from how it works to diving into development.\n",
    "\n",
    "<!--\n",
    " There's also an [overview video from Microsoft Virtual Academy](https://mva.microsoft.com/en-US/training-courses/azure-documentdb-planetscale-nosql-16847) covering Cosmos DB when it was named DocumentDB (embedded below; **note** that if all you see is raw HTML then view the live notebook and run the code cell below).\n",
    "\n",
    "import IPython.display\n",
    "\n",
    "IPython.display.IFrame(\"https://mva.microsoft.com/en-US/training-courses-embed/azure-documentdb-planetscale-nosql-16847/Video-DocumentDB-Overview-mU5LAcT6C_1706218965\", 814, 664)\n",
    "-->"
   ]
  },
  {
   "cell_type": "markdown",
   "metadata": {},
   "source": [
    "# Playing with the Python SDK\n",
    "Once you understand what Cosmos DB offers and how it structures data you can then begin to play with a live database. [Creating a Cosmos DB database account](https://docs.microsoft.com/azure/cosmos-db/tutorial-develop-documentdb-dotnet#create-an-azure-cosmos-db-account) is very simple through the [Azure Portal](https://portal.azure.com). Even if you don't have an Azure account, you can [try out a free trial](https://azure.microsoft.com/free/) if you prefer.\n",
    "\n",
    "But to make trying out Cosmos DB's Python SDK easier, we have a read-only database and a set of examples exploring the various features of Cosmos DB."
   ]
  },
  {
   "cell_type": "markdown",
   "metadata": {},
   "source": [
    "## Setup\n",
    "First, we must install the [`pydocumentdb` package](https://pypi.org/project/pydocumentdb/) (we are working against version 2.0)."
   ]
  },
  {
   "cell_type": "code",
   "execution_count": 1,
   "metadata": {
    "collapsed": false
   },
   "outputs": [],
   "source": [
    "!pip --disable-pip-version-check --quiet install --upgrade \"pydocumentdb~=2.0.1\" \"folium~=0.2.1\""
   ]
  },
  {
   "cell_type": "markdown",
   "metadata": {},
   "source": [
    "With the necessary packages installed, we can now set up a `DocumentClient` which interfaces with our [Cosmos DB account](https://docs.microsoft.com/azure/documentdb/documentdb-resources#database-accounts). At the account level you control the consistency policy and authorization keys (in our instance we are using read-only keys)."
   ]
  },
  {
   "cell_type": "code",
   "execution_count": 2,
   "metadata": {
    "collapsed": false
   },
   "outputs": [],
   "source": [
    "from pydocumentdb import document_client\n",
    "\n",
    "HOST = \"https://analytics.documents.azure.com:443/\"\n",
    "READ_ONLY_KEY = \"vWP70fGUumeHUoZaXJhoSnsgmjHfZKEXvOIUAS0C3/NKXvuPRn7t/9zT309UVG2Tv7G2wITSnRUwe0UXTqymUw==\"\n",
    "\n",
    "client = document_client.DocumentClient(HOST, {'masterKey': READ_ONLY_KEY})"
   ]
  },
  {
   "cell_type": "markdown",
   "metadata": {},
   "source": [
    "With a client connection established, we can begin to look at what data is provided. First is the [databases](https://docs.microsoft.com/azure/documentdb/documentdb-resources#databases) themselves. Databases contain users and collections (which will talk about shortly)."
   ]
  },
  {
   "cell_type": "code",
   "execution_count": 3,
   "metadata": {
    "collapsed": false
   },
   "outputs": [
    {
     "name": "stderr",
     "output_type": "stream",
     "text": [
      "INFO:Starting new HTTPS connection (1): analytics.documents.azure.com\n",
      "INFO:Starting new HTTPS connection (1): analytics-eastus.documents.azure.com\n"
     ]
    },
    {
     "data": {
      "text/plain": [
       "['appservers_metrics',\n",
       " 'usdanutritiondb',\n",
       " 'volcanodb',\n",
       " 'server_metrics',\n",
       " 'earthquakes']"
      ]
     },
     "execution_count": 3,
     "metadata": {},
     "output_type": "execute_result"
    }
   ],
   "source": [
    "list(db[\"id\"] for db in client.ReadDatabases())"
   ]
  },
  {
   "cell_type": "markdown",
   "metadata": {},
   "source": [
    "All of our examples in this notebook will use data stored in the \"DG Samples\" database. Within each database are [collections](https://docs.microsoft.com/azure/documentdb/documentdb-resources#collections) which act as the transaction domain within a database. This means things such as [store procedures, triggers, and user-defined functions(UDF)](https://docs.microsoft.com/azure/documentdb/documentdb-resources#stored-procedures-triggers-and-user-defined-functions-udf) are defined at the collection level."
   ]
  },
  {
   "cell_type": "code",
   "execution_count": 4,
   "metadata": {
    "collapsed": false
   },
   "outputs": [
    {
     "data": {
      "text/plain": [
       "['usdanutrition']"
      ]
     },
     "execution_count": 4,
     "metadata": {},
     "output_type": "execute_result"
    }
   ],
   "source": [
    "DB_ID = \"usdanutritiondb\"\n",
    "db = next(db for db in client.ReadDatabases() if db[\"id\"] == DB_ID)\n",
    "\n",
    "list(coll[\"id\"] for coll in client.ReadCollections(db[\"_self\"]))"
   ]
  },
  {
   "cell_type": "markdown",
   "metadata": {},
   "source": [
    "Finally, a collection contains [documents](https://docs.microsoft.com/azure/documentdb/documentdb-resources#documents). As Cosmos DB is a NoSQL database, documents do not need to have any specified format whatsoever; in the case of DocumentDB they just need to be [well-formed JSON](http://www.json.org/).\n",
    "\n",
    "For example, taking a random document from our \"food\" collection will show you how the document is just JSON data (any key prefixed with `_` is internally used by Cosmos DB)."
   ]
  },
  {
   "cell_type": "code",
   "execution_count": 5,
   "metadata": {
    "collapsed": false
   },
   "outputs": [
    {
     "data": {
      "text/plain": [
       "{'_attachments': 'attachments/',\n",
       " '_etag': '\"00000800-0000-0000-0000-5620914c0000\"',\n",
       " '_rid': 'OyAUANaYpAIBAAAAAAAAAA==',\n",
       " '_self': 'dbs/OyAUAA==/colls/OyAUANaYpAI=/docs/OyAUANaYpAIBAAAAAAAAAA==/',\n",
       " '_ts': 1444974924,\n",
       " 'description': 'Babyfood, dessert, peach cobbler, junior',\n",
       " 'foodGroup': 'Baby Foods',\n",
       " 'id': '03228',\n",
       " 'isFromSurvey': False,\n",
       " 'nutrients': [{'description': 'Fiber, total dietary',\n",
       "   'id': '291',\n",
       "   'nutritionValue': 0.7,\n",
       "   'units': 'g'},\n",
       "  {'description': 'Calcium, Ca',\n",
       "   'id': '301',\n",
       "   'nutritionValue': 4,\n",
       "   'units': 'mg'},\n",
       "  {'description': 'Copper, Cu',\n",
       "   'id': '312',\n",
       "   'nutritionValue': 0.196,\n",
       "   'units': 'mg'},\n",
       "  {'description': 'Vitamin D (D2 + D3)',\n",
       "   'id': '328',\n",
       "   'nutritionValue': 0,\n",
       "   'units': 'µg'},\n",
       "  {'description': 'Vitamin B-6',\n",
       "   'id': '415',\n",
       "   'nutritionValue': 0.007,\n",
       "   'units': 'mg'},\n",
       "  {'description': 'Folic acid',\n",
       "   'id': '431',\n",
       "   'nutritionValue': 1,\n",
       "   'units': 'µg'},\n",
       "  {'description': 'Vitamin B-12, added',\n",
       "   'id': '578',\n",
       "   'nutritionValue': 0,\n",
       "   'units': 'µg'},\n",
       "  {'description': '14:0', 'id': '612', 'nutritionValue': 0, 'units': 'g'},\n",
       "  {'description': '20:5 n-3 (EPA)',\n",
       "   'id': '629',\n",
       "   'nutritionValue': 0,\n",
       "   'units': 'g'},\n",
       "  {'description': 'Caffeine', 'id': '262', 'nutritionValue': 0, 'units': 'mg'},\n",
       "  {'description': 'Sodium, Na',\n",
       "   'id': '307',\n",
       "   'nutritionValue': 0,\n",
       "   'units': 'mg'},\n",
       "  {'description': 'Zinc, Zn',\n",
       "   'id': '309',\n",
       "   'nutritionValue': 0.03,\n",
       "   'units': 'mg'},\n",
       "  {'description': 'Vitamin A, IU',\n",
       "   'id': '318',\n",
       "   'nutritionValue': 138,\n",
       "   'units': 'IU'},\n",
       "  {'description': '6:0', 'id': '608', 'nutritionValue': 0, 'units': 'g'},\n",
       "  {'description': '10:0', 'id': '610', 'nutritionValue': 0, 'units': 'g'},\n",
       "  {'description': '18:4', 'id': '627', 'nutritionValue': 0, 'units': 'g'},\n",
       "  {'description': 'Fatty acids, total monounsaturated',\n",
       "   'id': '645',\n",
       "   'nutritionValue': 0,\n",
       "   'units': 'g'},\n",
       "  {'description': 'Selenium, Se',\n",
       "   'id': '317',\n",
       "   'nutritionValue': 1,\n",
       "   'units': 'µg'},\n",
       "  {'description': 'Cryptoxanthin, beta',\n",
       "   'id': '334',\n",
       "   'nutritionValue': 28,\n",
       "   'units': 'µg'},\n",
       "  {'description': '4:0', 'id': '607', 'nutritionValue': 0, 'units': 'g'},\n",
       "  {'description': '8:0', 'id': '609', 'nutritionValue': 0, 'units': 'g'},\n",
       "  {'description': '12:0', 'id': '611', 'nutritionValue': 0, 'units': 'g'},\n",
       "  {'description': '20:1', 'id': '628', 'nutritionValue': 0, 'units': 'g'},\n",
       "  {'description': 'Fatty acids, total polyunsaturated',\n",
       "   'id': '646',\n",
       "   'nutritionValue': 0,\n",
       "   'units': 'g'},\n",
       "  {'description': 'Alcohol, ethyl',\n",
       "   'id': '221',\n",
       "   'nutritionValue': 0,\n",
       "   'units': 'g'},\n",
       "  {'description': 'Iron, Fe',\n",
       "   'id': '303',\n",
       "   'nutritionValue': 0.1,\n",
       "   'units': 'mg'},\n",
       "  {'description': 'Fluoride, F',\n",
       "   'id': '313',\n",
       "   'nutritionValue': 8,\n",
       "   'units': 'µg'},\n",
       "  {'description': 'Carotene, alpha',\n",
       "   'id': '322',\n",
       "   'nutritionValue': 0,\n",
       "   'units': 'µg'},\n",
       "  {'description': 'Lycopene', 'id': '337', 'nutritionValue': 0, 'units': 'µg'},\n",
       "  {'description': 'Niacin',\n",
       "   'id': '406',\n",
       "   'nutritionValue': 0.259,\n",
       "   'units': 'mg'},\n",
       "  {'description': 'Vitamin K (phylloquinone)',\n",
       "   'id': '430',\n",
       "   'nutritionValue': 1.1,\n",
       "   'units': 'µg'},\n",
       "  {'description': 'Fatty acids, total saturated',\n",
       "   'id': '606',\n",
       "   'nutritionValue': 0,\n",
       "   'units': 'g'},\n",
       "  {'description': '18:0', 'id': '614', 'nutritionValue': 0, 'units': 'g'},\n",
       "  {'description': '22:1 undifferentiated',\n",
       "   'id': '630',\n",
       "   'nutritionValue': 0,\n",
       "   'units': 'g'},\n",
       "  {'description': 'Total lipid (fat)',\n",
       "   'id': '204',\n",
       "   'nutritionValue': 0,\n",
       "   'units': 'g'},\n",
       "  {'description': 'Carbohydrate, by difference',\n",
       "   'id': '205',\n",
       "   'nutritionValue': 18.3,\n",
       "   'units': 'g'},\n",
       "  {'description': 'Ash', 'id': '207', 'nutritionValue': 0.24, 'units': 'g'},\n",
       "  {'description': 'Water', 'id': '255', 'nutritionValue': 81.2, 'units': 'g'},\n",
       "  {'description': 'Energy', 'id': '268', 'nutritionValue': 280, 'units': 'kJ'},\n",
       "  {'description': 'Sugars, total',\n",
       "   'id': '269',\n",
       "   'nutritionValue': 11.89,\n",
       "   'units': 'g'},\n",
       "  {'description': 'Potassium, K',\n",
       "   'id': '306',\n",
       "   'nutritionValue': 56,\n",
       "   'units': 'mg'},\n",
       "  {'description': 'Vitamin E (alpha-tocopherol)',\n",
       "   'id': '323',\n",
       "   'nutritionValue': 0.31,\n",
       "   'units': 'mg'},\n",
       "  {'description': 'Lutein + zeaxanthin',\n",
       "   'id': '338',\n",
       "   'nutritionValue': 39,\n",
       "   'units': 'µg'},\n",
       "  {'description': 'Folate, total',\n",
       "   'id': '417',\n",
       "   'nutritionValue': 3,\n",
       "   'units': 'µg'},\n",
       "  {'description': '18:1 undifferentiated',\n",
       "   'id': '617',\n",
       "   'nutritionValue': 0,\n",
       "   'units': 'g'},\n",
       "  {'description': '16:1 undifferentiated',\n",
       "   'id': '626',\n",
       "   'nutritionValue': 0,\n",
       "   'units': 'g'},\n",
       "  {'description': 'Protein', 'id': '203', 'nutritionValue': 0.3, 'units': 'g'},\n",
       "  {'description': 'Energy',\n",
       "   'id': '208',\n",
       "   'nutritionValue': 67,\n",
       "   'units': 'kcal'},\n",
       "  {'description': 'Magnesium, Mg',\n",
       "   'id': '304',\n",
       "   'nutritionValue': 2,\n",
       "   'units': 'mg'},\n",
       "  {'description': 'Phosphorus, P',\n",
       "   'id': '305',\n",
       "   'nutritionValue': 6,\n",
       "   'units': 'mg'},\n",
       "  {'description': 'Vitamin C, total ascorbic acid',\n",
       "   'id': '401',\n",
       "   'nutritionValue': 20.5,\n",
       "   'units': 'mg'},\n",
       "  {'description': 'Vitamin B-12',\n",
       "   'id': '418',\n",
       "   'nutritionValue': 0,\n",
       "   'units': 'µg'},\n",
       "  {'description': 'Folate, DFE',\n",
       "   'id': '435',\n",
       "   'nutritionValue': 4,\n",
       "   'units': 'µg'},\n",
       "  {'description': 'Cholesterol',\n",
       "   'id': '601',\n",
       "   'nutritionValue': 0,\n",
       "   'units': 'mg'},\n",
       "  {'description': '18:2 undifferentiated',\n",
       "   'id': '618',\n",
       "   'nutritionValue': 0,\n",
       "   'units': 'g'},\n",
       "  {'description': '18:3 undifferentiated',\n",
       "   'id': '619',\n",
       "   'nutritionValue': 0,\n",
       "   'units': 'g'},\n",
       "  {'description': '20:4 undifferentiated',\n",
       "   'id': '620',\n",
       "   'nutritionValue': 0,\n",
       "   'units': 'g'},\n",
       "  {'description': 'Retinol', 'id': '319', 'nutritionValue': 0, 'units': 'µg'},\n",
       "  {'description': 'Vitamin A, RAE',\n",
       "   'id': '320',\n",
       "   'nutritionValue': 7,\n",
       "   'units': 'µg'},\n",
       "  {'description': 'Vitamin D',\n",
       "   'id': '324',\n",
       "   'nutritionValue': 0,\n",
       "   'units': 'IU'},\n",
       "  {'description': 'Thiamin',\n",
       "   'id': '404',\n",
       "   'nutritionValue': 0.01,\n",
       "   'units': 'mg'},\n",
       "  {'description': 'Choline, total',\n",
       "   'id': '421',\n",
       "   'nutritionValue': 1.1,\n",
       "   'units': 'mg'},\n",
       "  {'description': 'Folate, food',\n",
       "   'id': '432',\n",
       "   'nutritionValue': 2,\n",
       "   'units': 'µg'},\n",
       "  {'description': '22:6 n-3 (DHA)',\n",
       "   'id': '621',\n",
       "   'nutritionValue': 0,\n",
       "   'units': 'g'},\n",
       "  {'description': 'Theobromine',\n",
       "   'id': '263',\n",
       "   'nutritionValue': 0,\n",
       "   'units': 'mg'},\n",
       "  {'description': 'Carotene, beta',\n",
       "   'id': '321',\n",
       "   'nutritionValue': 68,\n",
       "   'units': 'µg'},\n",
       "  {'description': 'Riboflavin',\n",
       "   'id': '405',\n",
       "   'nutritionValue': 0.015,\n",
       "   'units': 'mg'},\n",
       "  {'description': 'Vitamin E, added',\n",
       "   'id': '573',\n",
       "   'nutritionValue': 0,\n",
       "   'units': 'mg'},\n",
       "  {'description': '16:0', 'id': '613', 'nutritionValue': 0, 'units': 'g'},\n",
       "  {'description': '22:5 n-3 (DPA)',\n",
       "   'id': '631',\n",
       "   'nutritionValue': 0,\n",
       "   'units': 'g'}],\n",
       " 'servings': [{'amount': 1, 'description': 'tbsp', 'weightInGrams': 15},\n",
       "  {'amount': 1, 'description': 'oz', 'weightInGrams': 28.35},\n",
       "  {'amount': 1, 'description': 'jar', 'weightInGrams': 220},\n",
       "  {'amount': 1,\n",
       "   'description': 'jar Gerber Third Foods (6 oz)',\n",
       "   'weightInGrams': 170}],\n",
       " 'tags': [{'name': 'babyfood'},\n",
       "  {'name': 'dessert'},\n",
       "  {'name': 'peach cobbler'},\n",
       "  {'name': 'junior'}],\n",
       " 'version': 1}"
      ]
     },
     "execution_count": 5,
     "metadata": {},
     "output_type": "execute_result"
    }
   ],
   "source": [
    "COLLECTION_ID = \"usdanutrition\"\n",
    "food_collection = next(coll for coll in client.ReadCollections(db[\"_self\"]) if coll[\"id\"] == COLLECTION_ID)\n",
    "\n",
    "next(iter(client.ReadDocuments(food_collection[\"_self\"])))"
   ]
  },
  {
   "cell_type": "markdown",
   "metadata": {},
   "source": [
    "# Querying with SQL\n",
    "In the following sections we will cover how to query your Cosmos DB documents using SQL. Since this is a [Jupyter](http://jupyter.org/) notebook you can edit and re-run the code (just make sure you run all cells once to get the variables that are shared across cells defined)."
   ]
  },
  {
   "cell_type": "markdown",
   "metadata": {},
   "source": [
    "## SQL syntax\n",
    "\n",
    "To query a collection in Cosmos DB it's easiest to use its SQL syntax. Let’s familiarize ourselves with the classic `SELECT`, `FROM`, and `WHERE` query. The `FROM` is optional and usually set to the current collection’s name (e.g. \"food\")."
   ]
  },
  {
   "cell_type": "code",
   "execution_count": 6,
   "metadata": {
    "collapsed": true
   },
   "outputs": [],
   "source": [
    "def query_collection(collection, client=client):\n",
    "    def exec_query(query):\n",
    "        return iter(client.QueryDocuments(collection[\"_self\"], query))\n",
    "    return exec_query\n",
    "\n",
    "query_food = query_collection(food_collection)"
   ]
  },
  {
   "cell_type": "code",
   "execution_count": 7,
   "metadata": {
    "collapsed": false
   },
   "outputs": [
    {
     "name": "stdout",
     "output_type": "stream",
     "text": [
      "{'description': 'Snacks, granola bars, hard, peanut butter',\n",
      " 'foodGroup': 'Snacks',\n",
      " 'id': '19420',\n",
      " 'tags': [{'name': 'snacks'},\n",
      "          {'name': 'granola bars'},\n",
      "          {'name': 'hard'},\n",
      "          {'name': 'peanut butter'}]}\n"
     ]
    }
   ],
   "source": [
    "from pprint import pprint\n",
    "\n",
    "query = \"\"\"\n",
    "SELECT food.id,\n",
    "    food.description,\n",
    "    food.tags,\n",
    "    food.foodGroup\n",
    "FROM food\n",
    "WHERE food.foodGroup = \"Snacks\" and food.id = \"19420\"\n",
    "\"\"\"\n",
    "\n",
    "for item in query_food(query):\n",
    "    pprint(item)"
   ]
  },
  {
   "cell_type": "markdown",
   "metadata": {},
   "source": [
    "If you care to experiment, update the query above to fetch the *id*, *description*, *foodGroup*, and *servings* of the document with the *id* of 10188 and *foodGroup* of \"Pork Products\"."
   ]
  },
  {
   "cell_type": "markdown",
   "metadata": {},
   "source": [
    "## Filtering\n",
    "`WHERE` clauses support complex scalar expressions including arithmetic, comparison and logical operators."
   ]
  },
  {
   "cell_type": "code",
   "execution_count": 8,
   "metadata": {
    "collapsed": false,
    "scrolled": true
   },
   "outputs": [
    {
     "name": "stdout",
     "output_type": "stream",
     "text": [
      "{'description': 'Beverages, Energy Drink, sugar-free with guarana',\n",
      " 'foodGroup': 'Beverages',\n",
      " 'id': '14026',\n",
      " 'manufacturerName': 'The Coca-Cola Company',\n",
      " 'tags': [{'name': 'beverages'},\n",
      "          {'name': 'energy drink'},\n",
      "          {'name': 'sugar-free with guarana'}],\n",
      " 'version': 1}\n",
      "{'description': 'Energy drink, VAULT, citrus flavor',\n",
      " 'foodGroup': 'Beverages',\n",
      " 'id': '14640',\n",
      " 'manufacturerName': 'The Coca-Cola Company',\n",
      " 'tags': [{'name': 'energy drink'},\n",
      "          {'name': 'vault'},\n",
      "          {'name': 'citrus flavor'}],\n",
      " 'version': 1}\n",
      "{'description': 'Beverages, COCA-COLA, POWERADE, lemon-lime flavored, '\n",
      "                'ready-to-drink',\n",
      " 'foodGroup': 'Beverages',\n",
      " 'id': '14461',\n",
      " 'manufacturerName': 'The Coca-Cola Company',\n",
      " 'tags': [{'name': 'beverages'},\n",
      "          {'name': 'coca-cola'},\n",
      "          {'name': 'powerade'},\n",
      "          {'name': 'lemon-lime flavored'},\n",
      "          {'name': 'ready-to-drink'}],\n",
      " 'version': 1}\n",
      "{'description': 'Energy drink, VAULT Zero, sugar-free, citrus flavor',\n",
      " 'foodGroup': 'Beverages',\n",
      " 'id': '14641',\n",
      " 'manufacturerName': 'The Coca-Cola Company',\n",
      " 'tags': [{'name': 'energy drink'},\n",
      "          {'name': 'vault zero'},\n",
      "          {'name': 'sugar-free'},\n",
      "          {'name': 'citrus flavor'}],\n",
      " 'version': 1}\n"
     ]
    }
   ],
   "source": [
    "query = \"\"\"\n",
    "SELECT food.id,\n",
    "    food.description,\n",
    "    food.tags,\n",
    "    food.foodGroup,\n",
    "    food.manufacturerName,\n",
    "    food.version\n",
    "FROM food\n",
    "WHERE (food.manufacturerName = \"The Coca-Cola Company\" AND food.version > 0)\n",
    "\"\"\"\n",
    "for item in query_food(query):\n",
    "    pprint(item)"
   ]
  },
  {
   "cell_type": "markdown",
   "metadata": {},
   "source": [
    "You can also try querying for food from \"Pizza Hut, Inc.\" and that have a *version* less than 2. (you should have a document with an id of 21271 in the results)"
   ]
  },
  {
   "cell_type": "markdown",
   "metadata": {},
   "source": [
    "## `ORDER BY`\n",
    "Cosmos DB supports `Order By` and string range queries. You can sort query results on any string, number, or boolean property."
   ]
  },
  {
   "cell_type": "code",
   "execution_count": 9,
   "metadata": {
    "collapsed": false
   },
   "outputs": [
    {
     "name": "stdout",
     "output_type": "stream",
     "text": [
      "{'description': 'Blueberries, wild, canned, heavy syrup, drained',\n",
      " 'foodGroup': 'Fruits and Fruit Juices',\n",
      " 'servingDescription': 'cup',\n",
      " 'servingWeight': 319}\n",
      "{'description': 'Prunes, dehydrated (low-moisture), stewed',\n",
      " 'foodGroup': 'Fruits and Fruit Juices',\n",
      " 'servingDescription': 'cup',\n",
      " 'servingWeight': 280}\n",
      "{'description': 'Apples, dried, sulfured, stewed, with added sugar',\n",
      " 'foodGroup': 'Fruits and Fruit Juices',\n",
      " 'servingDescription': 'cup',\n",
      " 'servingWeight': 280}\n",
      "{'description': 'Cranberry sauce, canned, sweetened',\n",
      " 'foodGroup': 'Fruits and Fruit Juices',\n",
      " 'servingDescription': 'cup',\n",
      " 'servingWeight': 277}\n",
      "{'description': 'Cranberry-orange relish, canned',\n",
      " 'foodGroup': 'Fruits and Fruit Juices',\n",
      " 'servingDescription': 'cup',\n",
      " 'servingWeight': 275}\n",
      "{'description': 'Peaches, canned, heavy syrup pack, solids and liquids',\n",
      " 'foodGroup': 'Fruits and Fruit Juices',\n",
      " 'servingDescription': 'cup',\n",
      " 'servingWeight': 262}\n",
      "{'description': 'Fruit salad, (peach and pear and apricot and pineapple and '\n",
      "                'cherry), canned, extra heavy syrup, solids and liquids',\n",
      " 'foodGroup': 'Fruits and Fruit Juices',\n",
      " 'servingDescription': 'cup',\n",
      " 'servingWeight': 259}\n",
      "{'description': 'Cherries, sour, red, canned, heavy syrup pack, solids and '\n",
      "                'liquids',\n",
      " 'foodGroup': 'Fruits and Fruit Juices',\n",
      " 'servingDescription': 'cup',\n",
      " 'servingWeight': 256}\n",
      "{'description': 'Raspberries, canned, red, heavy syrup pack, solids and '\n",
      "                'liquids',\n",
      " 'foodGroup': 'Fruits and Fruit Juices',\n",
      " 'servingDescription': 'cup',\n",
      " 'servingWeight': 256}\n",
      "{'description': 'Boysenberries, canned, heavy syrup',\n",
      " 'foodGroup': 'Fruits and Fruit Juices',\n",
      " 'servingDescription': 'cup',\n",
      " 'servingWeight': 256}\n",
      "{'description': 'Apples, dried, sulfured, stewed, without added sugar',\n",
      " 'foodGroup': 'Fruits and Fruit Juices',\n",
      " 'servingDescription': 'cup',\n",
      " 'servingWeight': 255}\n",
      "{'description': 'Fruit salad, (peach and pear and apricot and pineapple and '\n",
      "                'cherry), canned, heavy syrup, solids and liquids',\n",
      " 'foodGroup': 'Fruits and Fruit Juices',\n",
      " 'servingDescription': 'cup',\n",
      " 'servingWeight': 255}\n",
      "{'description': 'Strawberries, canned, heavy syrup pack, solids and liquids',\n",
      " 'foodGroup': 'Fruits and Fruit Juices',\n",
      " 'servingDescription': 'cup',\n",
      " 'servingWeight': 254}\n",
      "{'description': 'Grape juice, canned or bottled, unsweetened, without added '\n",
      "                'ascorbic acid',\n",
      " 'foodGroup': 'Fruits and Fruit Juices',\n",
      " 'servingDescription': 'cup',\n",
      " 'servingWeight': 253}\n",
      "{'description': 'Juice Smoothie, BOLTHOUSE FARMS, BERRY BOOST',\n",
      " 'foodGroup': 'Fruits and Fruit Juices',\n",
      " 'servingDescription': 'cup',\n",
      " 'servingWeight': 252}\n",
      "{'description': 'Gooseberries, canned, light syrup pack, solids and liquids',\n",
      " 'foodGroup': 'Fruits and Fruit Juices',\n",
      " 'servingDescription': 'cup',\n",
      " 'servingWeight': 252}\n",
      "{'description': 'Fruit salad, (peach and pear and apricot and pineapple and '\n",
      "                'cherry), canned, light syrup, solids and liquids',\n",
      " 'foodGroup': 'Fruits and Fruit Juices',\n",
      " 'servingDescription': 'cup',\n",
      " 'servingWeight': 252}\n",
      "{'description': 'Tangerines, (mandarin oranges), canned, light syrup pack',\n",
      " 'foodGroup': 'Fruits and Fruit Juices',\n",
      " 'servingDescription': 'cup',\n",
      " 'servingWeight': 252}\n",
      "{'description': 'Guava nectar, canned',\n",
      " 'foodGroup': 'Fruits and Fruit Juices',\n",
      " 'servingDescription': 'cup',\n",
      " 'servingWeight': 251}\n",
      "{'description': 'Apricot nectar, canned, without added ascorbic acid',\n",
      " 'foodGroup': 'Fruits and Fruit Juices',\n",
      " 'servingDescription': 'cup',\n",
      " 'servingWeight': 251}\n",
      "{'description': 'Peaches, canned, juice pack, solids and liquids',\n",
      " 'foodGroup': 'Fruits and Fruit Juices',\n",
      " 'servingDescription': 'cup',\n",
      " 'servingWeight': 250}\n",
      "{'description': 'Pear nectar, canned, without added ascorbic acid',\n",
      " 'foodGroup': 'Fruits and Fruit Juices',\n",
      " 'servingDescription': 'cup',\n",
      " 'servingWeight': 250}\n",
      "{'description': 'Orange juice, chilled, includes from concentrate, with added '\n",
      "                'calcium and vitamins A, D, E',\n",
      " 'foodGroup': 'Fruits and Fruit Juices',\n",
      " 'servingDescription': 'cup',\n",
      " 'servingWeight': 249}\n",
      "{'description': 'Peach nectar, canned, without added ascorbic acid',\n",
      " 'foodGroup': 'Fruits and Fruit Juices',\n",
      " 'servingDescription': 'cup',\n",
      " 'servingWeight': 249}\n",
      "{'description': 'Orange juice, chilled, includes from concentrate, with added '\n",
      "                'calcium and vitamin D',\n",
      " 'foodGroup': 'Fruits and Fruit Juices',\n",
      " 'servingDescription': 'cup',\n",
      " 'servingWeight': 249}\n",
      "{'description': 'Pomegranate juice, bottled',\n",
      " 'foodGroup': 'Fruits and Fruit Juices',\n",
      " 'servingDescription': 'cup',\n",
      " 'servingWeight': 249}\n",
      "{'description': 'Apple juice, canned or bottled, unsweetened, without added '\n",
      "                'ascorbic acid',\n",
      " 'foodGroup': 'Fruits and Fruit Juices',\n",
      " 'servingDescription': 'cup',\n",
      " 'servingWeight': 248}\n",
      "{'description': 'Orange juice, raw',\n",
      " 'foodGroup': 'Fruits and Fruit Juices',\n",
      " 'servingDescription': 'cup',\n",
      " 'servingWeight': 248}\n",
      "{'description': 'Figs, canned, water pack, solids and liquids',\n",
      " 'foodGroup': 'Fruits and Fruit Juices',\n",
      " 'servingDescription': 'cup',\n",
      " 'servingWeight': 248}\n",
      "{'description': 'Tangerine juice, raw',\n",
      " 'foodGroup': 'Fruits and Fruit Juices',\n",
      " 'servingDescription': 'cup',\n",
      " 'servingWeight': 247}\n",
      "{'description': 'Grapefruit juice, white, frozen concentrate, unsweetened, '\n",
      "                'diluted with 3 volume water',\n",
      " 'foodGroup': 'Fruits and Fruit Juices',\n",
      " 'servingDescription': 'cup',\n",
      " 'servingWeight': 247}\n",
      "{'description': 'Passion-fruit juice, yellow, raw',\n",
      " 'foodGroup': 'Fruits and Fruit Juices',\n",
      " 'servingDescription': 'cup',\n",
      " 'servingWeight': 247}\n",
      "{'description': 'Grapefruit juice, white, canned, unsweetened',\n",
      " 'foodGroup': 'Fruits and Fruit Juices',\n",
      " 'servingDescription': 'cup',\n",
      " 'servingWeight': 247}\n",
      "{'description': 'Applesauce, canned, sweetened, without salt (includes USDA '\n",
      "                'commodity)',\n",
      " 'foodGroup': 'Fruits and Fruit Juices',\n",
      " 'servingDescription': 'cup',\n",
      " 'servingWeight': 246}\n",
      "{'description': 'Blueberries, canned, light syrup, drained',\n",
      " 'foodGroup': 'Fruits and Fruit Juices',\n",
      " 'servingDescription': 'cup',\n",
      " 'servingWeight': 244}\n",
      "{'description': 'Applesauce, canned, unsweetened, without added ascorbic acid '\n",
      "                '(includes USDA commodity)',\n",
      " 'foodGroup': 'Fruits and Fruit Juices',\n",
      " 'servingDescription': 'cup',\n",
      " 'servingWeight': 244}\n",
      "{'description': 'Lemon juice, canned or bottled',\n",
      " 'foodGroup': 'Fruits and Fruit Juices',\n",
      " 'servingDescription': 'cup',\n",
      " 'servingWeight': 244}\n",
      "{'description': 'Lemon juice, raw',\n",
      " 'foodGroup': 'Fruits and Fruit Juices',\n",
      " 'servingDescription': 'cup',\n",
      " 'servingWeight': 244}\n",
      "{'description': 'Cherries, sour, red, canned, water pack, solids and liquids '\n",
      "                '(includes USDA commodity red tart cherries, canned)',\n",
      " 'foodGroup': 'Fruits and Fruit Juices',\n",
      " 'servingDescription': 'cup',\n",
      " 'servingWeight': 244}\n",
      "{'description': 'Applesauce, canned, unsweetened, with added ascorbic acid',\n",
      " 'foodGroup': 'Fruits and Fruit Juices',\n",
      " 'servingDescription': 'cup',\n",
      " 'servingWeight': 244}\n",
      "{'description': 'Fruit cocktail, (peach and pineapple and pear and grape and '\n",
      "                'cherry), canned, light syrup, solids and liquids',\n",
      " 'foodGroup': 'Fruits and Fruit Juices',\n",
      " 'servingDescription': 'cup',\n",
      " 'servingWeight': 242}\n",
      "{'description': 'Acerola juice, raw',\n",
      " 'foodGroup': 'Fruits and Fruit Juices',\n",
      " 'servingDescription': 'cup',\n",
      " 'servingWeight': 242}\n",
      "{'description': 'Apple juice, frozen concentrate, unsweetened, diluted with 3 '\n",
      "                'volume water without added ascorbic acid',\n",
      " 'foodGroup': 'Fruits and Fruit Juices',\n",
      " 'servingDescription': 'cup',\n",
      " 'servingWeight': 239}\n",
      "{'description': 'Guava sauce, cooked',\n",
      " 'foodGroup': 'Fruits and Fruit Juices',\n",
      " 'servingDescription': 'cup',\n",
      " 'servingWeight': 238}\n",
      "{'description': 'Breadfruit, raw',\n",
      " 'foodGroup': 'Fruits and Fruit Juices',\n",
      " 'servingDescription': 'cup',\n",
      " 'servingWeight': 220}\n",
      "{'description': 'Fruit cocktail, canned, heavy syrup, drained',\n",
      " 'foodGroup': 'Fruits and Fruit Juices',\n",
      " 'servingDescription': 'cup',\n",
      " 'servingWeight': 214}\n",
      "{'description': 'Litchis, raw',\n",
      " 'foodGroup': 'Fruits and Fruit Juices',\n",
      " 'servingDescription': 'cup',\n",
      " 'servingWeight': 190}\n",
      "{'description': 'Prickly pears, raw',\n",
      " 'foodGroup': 'Fruits and Fruit Juices',\n",
      " 'servingDescription': 'cup',\n",
      " 'servingWeight': 149}\n",
      "{'description': 'Blueberries, raw',\n",
      " 'foodGroup': 'Fruits and Fruit Juices',\n",
      " 'servingDescription': 'cup',\n",
      " 'servingWeight': 148}\n",
      "{'description': 'Blackberries, raw',\n",
      " 'foodGroup': 'Fruits and Fruit Juices',\n",
      " 'servingDescription': 'cup',\n",
      " 'servingWeight': 144}\n",
      "{'description': 'Currants, zante, dried',\n",
      " 'foodGroup': 'Fruits and Fruit Juices',\n",
      " 'servingDescription': 'cup',\n",
      " 'servingWeight': 144}\n",
      "{'description': 'Groundcherries, (cape-gooseberries or poha), raw',\n",
      " 'foodGroup': 'Fruits and Fruit Juices',\n",
      " 'servingDescription': 'cup',\n",
      " 'servingWeight': 140}\n",
      "{'description': 'Prunes, dehydrated (low-moisture), uncooked',\n",
      " 'foodGroup': 'Fruits and Fruit Juices',\n",
      " 'servingDescription': 'cup',\n",
      " 'servingWeight': 132}\n",
      "{'description': 'Fruit cocktail, (peach and pineapple and pear and grape and '\n",
      "                'cherry), canned, extra heavy syrup, solids and liquids',\n",
      " 'foodGroup': 'Fruits and Fruit Juices',\n",
      " 'servingDescription': 'cup',\n",
      " 'servingWeight': 130}\n",
      "{'description': 'Apricots, dehydrated (low-moisture), sulfured, uncooked',\n",
      " 'foodGroup': 'Fruits and Fruit Juices',\n",
      " 'servingDescription': 'cup',\n",
      " 'servingWeight': 119}\n",
      "{'description': 'Rowal, raw',\n",
      " 'foodGroup': 'Fruits and Fruit Juices',\n",
      " 'servingDescription': 'cup',\n",
      " 'servingWeight': 114}\n",
      "{'description': 'Acerola, (west indian cherry), raw',\n",
      " 'foodGroup': 'Fruits and Fruit Juices',\n",
      " 'servingDescription': 'cup',\n",
      " 'servingWeight': 98}\n",
      "{'description': 'Apples, dehydrated (low moisture), sulfured, uncooked',\n",
      " 'foodGroup': 'Fruits and Fruit Juices',\n",
      " 'servingDescription': 'cup',\n",
      " 'servingWeight': 60}\n",
      "{'description': 'Cranberries, dried, sweetened',\n",
      " 'foodGroup': 'Fruits and Fruit Juices',\n",
      " 'servingDescription': 'cup',\n",
      " 'servingWeight': 40}\n"
     ]
    }
   ],
   "source": [
    "query = \"\"\"\n",
    "SELECT food.description, \n",
    "    food.foodGroup, \n",
    "    food.servings[0].description AS servingDescription, \n",
    "    food.servings[0].weightInGrams AS servingWeight \n",
    "FROM food \n",
    "WHERE food.foodGroup = \"Fruits and Fruit Juices\"\n",
    "    AND food.servings[0].description = \"cup\"\n",
    "ORDER BY food.servings[0].weightInGrams DESC\n",
    "\"\"\"\n",
    "\n",
    "for item in query_food(query):\n",
    "    pprint(item)"
   ]
  },
  {
   "cell_type": "markdown",
   "metadata": {},
   "source": [
    "Try returning the *description*, *foodGroup*, and *tags[0].name* for all \"Fruit and Fruit Juices\" with *servings[0].description* as \"cup\" in ascending order based on *tags[0].name*. (you should find a food named \"acerola\" in your results)"
   ]
  },
  {
   "cell_type": "markdown",
   "metadata": {},
   "source": [
    "## `TOP`\n",
    "`TOP` can be used to limit the number of returning values from a query."
   ]
  },
  {
   "cell_type": "code",
   "execution_count": 10,
   "metadata": {
    "collapsed": false
   },
   "outputs": [
    {
     "name": "stdout",
     "output_type": "stream",
     "text": [
      "{'description': 'Snacks, popcorn, air-popped',\n",
      " 'foodGroup': 'Snacks',\n",
      " 'id': '19034',\n",
      " 'tags': [{'name': 'snacks'}, {'name': 'popcorn'}, {'name': 'air-popped'}]}\n",
      "{'description': 'Snacks, popcorn, cakes',\n",
      " 'foodGroup': 'Snacks',\n",
      " 'id': '19036',\n",
      " 'tags': [{'name': 'snacks'}, {'name': 'popcorn'}, {'name': 'cakes'}]}\n",
      "{'description': 'Snacks, pretzels, hard, plain, salted',\n",
      " 'foodGroup': 'Snacks',\n",
      " 'id': '19047',\n",
      " 'tags': [{'name': 'snacks'},\n",
      "          {'name': 'pretzels'},\n",
      "          {'name': 'hard'},\n",
      "          {'name': 'plain'},\n",
      "          {'name': 'salted'}]}\n",
      "{'description': 'Snacks, rice cakes, brown rice, plain',\n",
      " 'foodGroup': 'Snacks',\n",
      " 'id': '19051',\n",
      " 'tags': [{'name': 'snacks'},\n",
      "          {'name': 'rice cakes'},\n",
      "          {'name': 'brown rice'},\n",
      "          {'name': 'plain'}]}\n",
      "{'description': 'Snacks, potato chips, made from dried potatoes, cheese-flavor',\n",
      " 'foodGroup': 'Snacks',\n",
      " 'id': '19412',\n",
      " 'tags': [{'name': 'snacks'},\n",
      "          {'name': 'potato chips'},\n",
      "          {'name': 'made from dried potatoes'},\n",
      "          {'name': 'cheese-flavor'}]}\n"
     ]
    }
   ],
   "source": [
    "query = \"\"\"\n",
    "SELECT TOP 5 food.id, \n",
    "    food.description, \n",
    "    food.tags, \n",
    "    food.foodGroup \n",
    "FROM food \n",
    "WHERE food.foodGroup = \"Snacks\"\n",
    "\"\"\"\n",
    "\n",
    "for item in query_food(query):\n",
    "    pprint(item)"
   ]
  },
  {
   "cell_type": "markdown",
   "metadata": {},
   "source": [
    "Now try returning the *id*, *description*, *tags*, *foodGroup*, and *servings[0]* as \"serving\" for the top 10 \"Snacks\" with *servings[0].description* as \"cup\" in descending order based on *servings[0].weightInGrams*. Use `DESC` at the end of the `ORDER BY` query to get descending order. (you should find a food with the ID of 19821 in your results)"
   ]
  },
  {
   "cell_type": "markdown",
   "metadata": {},
   "source": [
    "## `IN` & `BETWEEN`\n",
    "`IN` can be used to check whether a specified value matches any element in a given list and `BETWEEN` can be used to run queries against a range of values."
   ]
  },
  {
   "cell_type": "code",
   "execution_count": 11,
   "metadata": {
    "collapsed": false
   },
   "outputs": [
    {
     "name": "stdout",
     "output_type": "stream",
     "text": [
      "{'description': 'Turkey, thigh, from whole bird, meat only, roasted',\n",
      " 'foodGroup': 'Poultry Products',\n",
      " 'id': '05741',\n",
      " 'tags': [{'name': 'turkey'},\n",
      "          {'name': 'thigh'},\n",
      "          {'name': 'from whole bird'},\n",
      "          {'name': 'meat only'},\n",
      "          {'name': 'roasted'}],\n",
      " 'version': 1}\n",
      "{'description': 'Turkey, retail parts, thigh, meat and skin, cooked, roasted',\n",
      " 'foodGroup': 'Poultry Products',\n",
      " 'id': '05743',\n",
      " 'tags': [{'name': 'turkey'},\n",
      "          {'name': 'retail parts'},\n",
      "          {'name': 'thigh'},\n",
      "          {'name': 'meat and skin'},\n",
      "          {'name': 'cooked'},\n",
      "          {'name': 'roasted'}],\n",
      " 'version': 1}\n",
      "{'description': 'Chicken, broiler or fryers, breast, skinless, boneless, meat '\n",
      "                'only, enhanced, cooked, braised',\n",
      " 'foodGroup': 'Poultry Products',\n",
      " 'id': '05748',\n",
      " 'tags': [{'name': 'chicken'},\n",
      "          {'name': 'broiler or fryers'},\n",
      "          {'name': 'breast'},\n",
      "          {'name': 'skinless'},\n",
      "          {'name': 'boneless'},\n",
      "          {'name': 'meat only'},\n",
      "          {'name': 'enhanced'},\n",
      "          {'name': 'cooked'},\n",
      "          {'name': 'braised'}],\n",
      " 'version': 1}\n",
      "{'description': 'Barbecue loaf, pork, beef',\n",
      " 'foodGroup': 'Sausages and Luncheon Meats',\n",
      " 'id': '07001',\n",
      " 'tags': [{'name': 'barbecue loaf'}, {'name': 'pork'}, {'name': 'beef'}],\n",
      " 'version': 1}\n",
      "{'description': 'Ham, chopped, canned',\n",
      " 'foodGroup': 'Sausages and Luncheon Meats',\n",
      " 'id': '07026',\n",
      " 'tags': [{'name': 'ham'}, {'name': 'chopped'}, {'name': 'canned'}],\n",
      " 'version': 1}\n",
      "{'description': 'Ham, chopped, not canned',\n",
      " 'foodGroup': 'Sausages and Luncheon Meats',\n",
      " 'id': '07027',\n",
      " 'tags': [{'name': 'ham'}, {'name': 'chopped'}, {'name': 'not canned'}],\n",
      " 'version': 1}\n",
      "{'description': 'Ham, sliced, packaged (96% fat free, water added)',\n",
      " 'foodGroup': 'Sausages and Luncheon Meats',\n",
      " 'id': '07028',\n",
      " 'tags': [{'name': 'ham'},\n",
      "          {'name': 'sliced'},\n",
      "          {'name': 'packaged (96% fat free'},\n",
      "          {'name': 'water added)'}],\n",
      " 'version': 1}\n",
      "{'description': 'Turkey breast, low salt, prepackaged or deli, luncheon meat',\n",
      " 'foodGroup': 'Sausages and Luncheon Meats',\n",
      " 'id': '07046',\n",
      " 'tags': [{'name': 'turkey breast'},\n",
      "          {'name': 'low salt'},\n",
      "          {'name': 'prepackaged or deli'},\n",
      "          {'name': 'luncheon meat'}],\n",
      " 'version': 1}\n",
      "{'description': 'Mortadella, beef, pork',\n",
      " 'foodGroup': 'Sausages and Luncheon Meats',\n",
      " 'id': '07050',\n",
      " 'tags': [{'name': 'mortadella'}, {'name': 'beef'}, {'name': 'pork'}],\n",
      " 'version': 1}\n",
      "{'description': 'Turkey, back, from whole bird, enhanced, meat and skin, '\n",
      "                'roasted',\n",
      " 'foodGroup': 'Poultry Products',\n",
      " 'id': '05745',\n",
      " 'tags': [{'name': 'turkey'},\n",
      "          {'name': 'back'},\n",
      "          {'name': 'from whole bird'},\n",
      "          {'name': 'enhanced'},\n",
      "          {'name': 'meat and skin'},\n",
      "          {'name': 'roasted'}],\n",
      " 'version': 1}\n",
      "{'description': 'Chicken, broiler or fryers, breast, skinless, boneless, meat '\n",
      "                'only, cooked, grilled',\n",
      " 'foodGroup': 'Poultry Products',\n",
      " 'id': '05747',\n",
      " 'tags': [{'name': 'chicken'},\n",
      "          {'name': 'broiler or fryers'},\n",
      "          {'name': 'breast'},\n",
      "          {'name': 'skinless'},\n",
      "          {'name': 'boneless'},\n",
      "          {'name': 'meat only'},\n",
      "          {'name': 'cooked'},\n",
      "          {'name': 'grilled'}],\n",
      " 'version': 1}\n",
      "{'description': 'Ham, sliced, regular (approximately 11% fat)',\n",
      " 'foodGroup': 'Sausages and Luncheon Meats',\n",
      " 'id': '07029',\n",
      " 'tags': [{'name': 'ham'},\n",
      "          {'name': 'sliced'},\n",
      "          {'name': 'regular (approximately 11% fat)'}],\n",
      " 'version': 1}\n",
      "{'description': 'Ham salad spread',\n",
      " 'foodGroup': 'Sausages and Luncheon Meats',\n",
      " 'id': '07031',\n",
      " 'tags': [{'name': 'ham salad spread'}],\n",
      " 'version': 1}\n",
      "{'description': 'Lebanon bologna, beef',\n",
      " 'foodGroup': 'Sausages and Luncheon Meats',\n",
      " 'id': '07039',\n",
      " 'tags': [{'name': 'lebanon bologna'}, {'name': 'beef'}],\n",
      " 'version': 1}\n",
      "{'description': 'Roast beef, deli style, prepackaged, sliced',\n",
      " 'foodGroup': 'Sausages and Luncheon Meats',\n",
      " 'id': '07043',\n",
      " 'tags': [{'name': 'roast beef'},\n",
      "          {'name': 'deli style'},\n",
      "          {'name': 'prepackaged'},\n",
      "          {'name': 'sliced'}],\n",
      " 'version': 1}\n",
      "{'description': 'Luncheon meat, pork, canned',\n",
      " 'foodGroup': 'Sausages and Luncheon Meats',\n",
      " 'id': '07045',\n",
      " 'tags': [{'name': 'luncheon meat'}, {'name': 'pork'}, {'name': 'canned'}],\n",
      " 'version': 1}\n",
      "{'description': 'Turkey, retail parts, thigh, meat and skin, raw',\n",
      " 'foodGroup': 'Poultry Products',\n",
      " 'id': '05742',\n",
      " 'tags': [{'name': 'turkey'},\n",
      "          {'name': 'retail parts'},\n",
      "          {'name': 'thigh'},\n",
      "          {'name': 'meat and skin'},\n",
      "          {'name': 'raw'}],\n",
      " 'version': 1}\n",
      "{'description': 'Bockwurst, pork, veal, raw',\n",
      " 'foodGroup': 'Sausages and Luncheon Meats',\n",
      " 'id': '07006',\n",
      " 'tags': [{'name': 'bockwurst'},\n",
      "          {'name': 'pork'},\n",
      "          {'name': 'veal'},\n",
      "          {'name': 'raw'}],\n",
      " 'version': 1}\n",
      "{'description': 'Corned beef loaf, jellied',\n",
      " 'foodGroup': 'Sausages and Luncheon Meats',\n",
      " 'id': '07020',\n",
      " 'tags': [{'name': 'corned beef loaf'}, {'name': 'jellied'}],\n",
      " 'version': 1}\n",
      "{'description': 'Frankfurter, beef, unheated',\n",
      " 'foodGroup': 'Sausages and Luncheon Meats',\n",
      " 'id': '07022',\n",
      " 'tags': [{'name': 'frankfurter'}, {'name': 'beef'}, {'name': 'unheated'}],\n",
      " 'version': 1}\n",
      "{'description': 'Frankfurter, beef and pork',\n",
      " 'foodGroup': 'Sausages and Luncheon Meats',\n",
      " 'id': '07023',\n",
      " 'tags': [{'name': 'frankfurter'}, {'name': 'beef and pork'}],\n",
      " 'version': 1}\n",
      "{'description': 'Frankfurter, chicken',\n",
      " 'foodGroup': 'Sausages and Luncheon Meats',\n",
      " 'id': '07024',\n",
      " 'tags': [{'name': 'frankfurter'}, {'name': 'chicken'}],\n",
      " 'version': 1}\n",
      "{'description': 'Headcheese, pork',\n",
      " 'foodGroup': 'Sausages and Luncheon Meats',\n",
      " 'id': '07034',\n",
      " 'tags': [{'name': 'headcheese'}, {'name': 'pork'}],\n",
      " 'version': 1}\n",
      "{'description': 'Blood sausage',\n",
      " 'foodGroup': 'Sausages and Luncheon Meats',\n",
      " 'id': '07005',\n",
      " 'tags': [{'name': 'blood sausage'}],\n",
      " 'version': 1}\n",
      "{'description': 'Cheesefurter, cheese smokie, pork, beef',\n",
      " 'foodGroup': 'Sausages and Luncheon Meats',\n",
      " 'id': '07016',\n",
      " 'tags': [{'name': 'cheesefurter'},\n",
      "          {'name': 'cheese smokie'},\n",
      "          {'name': 'pork'},\n",
      "          {'name': 'beef'}],\n",
      " 'version': 1}\n",
      "{'description': 'Ham and cheese loaf or roll',\n",
      " 'foodGroup': 'Sausages and Luncheon Meats',\n",
      " 'id': '07032',\n",
      " 'tags': [{'name': 'ham and cheese loaf or roll'}],\n",
      " 'version': 1}\n"
     ]
    }
   ],
   "source": [
    "query = \"\"\"\n",
    "SELECT food.id,\n",
    "    food.description,\n",
    "    food.tags,\n",
    "    food.foodGroup,\n",
    "    food.version \n",
    "FROM food \n",
    "WHERE food.foodGroup \n",
    "    IN (\"Poultry Products\", \"Sausages and Luncheon Meats\")\n",
    "    AND (food.id BETWEEN \"05740\" AND \"07050\")\n",
    "\"\"\"\n",
    "\n",
    "for item in query_food(query):\n",
    "    pprint(item)"
   ]
  },
  {
   "cell_type": "markdown",
   "metadata": {},
   "source": [
    "Try returning the *id*, *description*, *tags*, *foodGroup*, and *version* for all \"Breakfast Cereals\" or \"Fruits and Fruit Juices\" with an id between 08700 and 09050. (you should find an item with an ID of 09002 in your results)"
   ]
  },
  {
   "cell_type": "markdown",
   "metadata": {
    "collapsed": false
   },
   "source": [
    "## Projection\n",
    "Cosmos DB supports projection with JSON within its queries."
   ]
  },
  {
   "cell_type": "code",
   "execution_count": 12,
   "metadata": {
    "collapsed": false
   },
   "outputs": [
    {
     "name": "stdout",
     "output_type": "stream",
     "text": [
      "{'Food': {'Brand': 'instant oatmeal, not fortified, no added salt',\n",
      "          'Company': 'The Quaker Oats, Co.',\n",
      "          'Food Group': 'Breakfast Cereals',\n",
      "          'Serving Description': 'packet',\n",
      "          'Serving in Grams': 41}}\n"
     ]
    }
   ],
   "source": [
    "query = \"\"\"\n",
    "SELECT { \n",
    "    \"Company\": food.manufacturerName,\n",
    "    \"Brand\": food.commonName,\n",
    "    \"Serving Description\": food.servings[0].description,\n",
    "    \"Serving in Grams\": food.servings[0].weightInGrams,\n",
    "    \"Food Group\": food.foodGroup \n",
    "    } AS Food\n",
    "FROM food\n",
    "WHERE food.id = \"08640\"\n",
    "\"\"\"\n",
    "\n",
    "for item in query_food(query):\n",
    "    pprint(item)"
   ]
  },
  {
   "cell_type": "markdown",
   "metadata": {},
   "source": [
    "Now try a query where you set the new \"Brand\" property to *food.tags[0].name* and create a new \"Menu Item\" property for *food.tags[1].name*. Keep using the document where id is 21437 (your result should have the \"Menu Item\" as \"fried chicken\")"
   ]
  },
  {
   "cell_type": "markdown",
   "metadata": {},
   "source": [
    "## `JOIN`\n",
    "Cosmos DB’s `JOIN` supports intra-document and self-joins."
   ]
  },
  {
   "cell_type": "code",
   "execution_count": 13,
   "metadata": {
    "collapsed": false
   },
   "outputs": [
    {
     "name": "stdout",
     "output_type": "stream",
     "text": [
      "{'name': 'cereals'}\n",
      "{'name': 'quaker'}\n",
      "{'name': 'instant oatmeal organic'}\n",
      "{'name': 'regular'}\n"
     ]
    }
   ],
   "source": [
    "query = \"\"\"\n",
    "SELECT tag.name\n",
    "FROM food\n",
    "JOIN tag IN food.tags\n",
    "WHERE food.id = \"08640\"\n",
    "\"\"\"\n",
    "\n",
    "for item in query_food(query):\n",
    "    pprint(item)"
   ]
  },
  {
   "cell_type": "markdown",
   "metadata": {},
   "source": [
    "Now try returning the *id*, *description*, *nutritionValue*, and *units* for *food.nutrients* with a *nutritionValue* greater than 5 and units in \"mg\" for the document with an ID of 03228. (you should expect a result have a description of \"Phosphorus, P\")"
   ]
  },
  {
   "cell_type": "markdown",
   "metadata": {},
   "source": [
    "## Built-ins\n",
    "Cosmos DB supports a number of [built-in functions](https://docs.microsoft.com/en-ca/azure/documentdb/documentdb-sql-query#a-idbuiltinfunctionsabuilt-in-functions) for common operations. They cover mathematical functions like `ABS`, `FLOOR`, and `ROUND` and type checking functions like `IS_ARRAY`, `IS_BOOL` and `IS_DEFINED`."
   ]
  },
  {
   "cell_type": "code",
   "execution_count": 14,
   "metadata": {
    "collapsed": false
   },
   "outputs": [
    {
     "name": "stdout",
     "output_type": "stream",
     "text": [
      "{'amount': 71,\n",
      " 'commonName': 'hot dog, wiener, frank',\n",
      " 'foodGroup': 'Sausages and Luncheon Meats',\n",
      " 'id': '42188',\n",
      " 'units': 'g'}\n",
      "{'amount': 70,\n",
      " 'commonName': 'hot dog, wiener, frank',\n",
      " 'foodGroup': 'Sausages and Luncheon Meats',\n",
      " 'id': '42280',\n",
      " 'units': 'g'}\n"
     ]
    }
   ],
   "source": [
    "query = \"\"\"\n",
    "SELECT food.id, \n",
    "    food.commonName, \n",
    "    food.foodGroup, \n",
    "    ROUND(nutrient.nutritionValue) AS amount, \n",
    "    nutrient.units \n",
    "FROM food JOIN nutrient IN food.nutrients \n",
    "WHERE IS_DEFINED(food.commonName) \n",
    "    AND nutrient.description = \"Water\" \n",
    "    AND food.foodGroup IN (\"Sausages and Luncheon Meats\", \"Legumes and Legume Products\")\n",
    "    AND food.id > \"42178\"\n",
    "\"\"\"\n",
    "\n",
    "for item in query_food(query):\n",
    "    pprint(item)"
   ]
  },
  {
   "cell_type": "markdown",
   "metadata": {},
   "source": [
    "## Geospatial support\n",
    "\n",
    "Cosmos DB supports [geospatial indexing and querying](https://azure.microsoft.com/documentation/articles/documentdb-geospatial/). You can store location data in your schema-less JSON documents and perform proximity queries. (**NOTE**: If you don't see any output or just raw HTML, run the live notebook either through `Cell ➞ Run All` or manually run the cells in the *Setup* section and the cells below)"
   ]
  },
  {
   "cell_type": "code",
   "execution_count": 15,
   "metadata": {
    "collapsed": false
   },
   "outputs": [],
   "source": [
    "import folium\n",
    "\n",
    "world = folium.Map(location=[45.5236, -122.6750], tiles='Stamen Terrain', zoom_start=1)"
   ]
  },
  {
   "cell_type": "code",
   "execution_count": 16,
   "metadata": {
    "collapsed": false
   },
   "outputs": [
    {
     "data": {
      "text/html": [
       "<div style=\"width:100%;\"><div style=\"position:relative;width:100%;height:0;padding-bottom:60%;\"><iframe src=\"data:text/html;base64,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\" style=\"position:absolute;width:100%;height:100%;left:0;top:0;\"></iframe></div></div>"
      ],
      "text/plain": [
       "<folium.folium.Map at 0x7f3413ac9a90>"
      ]
     },
     "execution_count": 16,
     "metadata": {},
     "output_type": "execute_result"
    }
   ],
   "source": [
    "volcano_db = next(db for db in client.ReadDatabases() if db[\"id\"] == \"volcanodb\")\n",
    "volcanoes = next(coll for coll in client.ReadCollections(volcano_db[\"_self\"]) if coll[\"id\"] == \"volcano5\")\n",
    "query_volcanoes = query_collection(volcanoes)\n",
    "\n",
    "# Find all volcanoes of type Stratovolcano\n",
    "# (http://www.sciencedaily.com/terms/stratovolcano.htm) \n",
    "# that are within 100 km of Redmond, WA. \n",
    "query = \"\"\"\n",
    "SELECT *\n",
    "FROM volcanoes v\n",
    "WHERE ST_DISTANCE(v.Location, { \n",
    "    \"type\": \"Point\", \n",
    "    \"coordinates\": [-122.19, 47.36] \n",
    "    }) < 100 * 1000\n",
    "AND v.Type = \"Stratovolcano\"\n",
    "AND v[\"Last Known Eruption\"] = \"Last known eruption from 1800-1899, inclusive\"\n",
    "\"\"\"\n",
    "\n",
    "found = []\n",
    "for item in query_volcanoes(query):\n",
    "    lng, lat = item[\"Location\"][\"coordinates\"]  # Cosmos DB uses [longitude, latitude], Folium uses the reverse!\n",
    "    found.append([lat, lng])\n",
    "    world.add_children(folium.Marker([lat, lng], popup=item[\"Volcano Name\"]))\n",
    "northeast = [max(coord[0] for coord in found), max(coord[1] for coord in found)]\n",
    "southwest = [min(coord[0] for coord in found), min(coord[1] for coord in found)]\n",
    "world.fit_bounds([southwest, northeast], max_zoom=5)\n",
    "world"
   ]
  }
 ],
 "metadata": {
  "kernelspec": {
   "display_name": "Python 3",
   "language": "python",
   "name": "python3"
  },
  "language_info": {
   "codemirror_mode": {
    "name": "ipython",
    "version": 3
   },
   "file_extension": ".py",
   "mimetype": "text/x-python",
   "name": "python",
   "nbconvert_exporter": "python",
   "pygments_lexer": "ipython3",
   "version": "3.5.1"
  }
 },
 "nbformat": 4,
 "nbformat_minor": 2
}
