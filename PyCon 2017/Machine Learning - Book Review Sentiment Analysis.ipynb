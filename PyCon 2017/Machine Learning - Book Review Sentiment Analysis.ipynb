{
 "cells": [
  {
   "cell_type": "markdown",
   "metadata": {},
   "source": [
    "# Data analysis of book reviews from Amazon\n",
    "\n",
    "This notebook contains a set of book reviews from Amazon.  The first cell of the notebook will download the data and read it into a Pandas data frame.  \n",
    "\n",
    "Your job is to do some basic analysis of the data."
   ]
  },
  {
   "cell_type": "code",
   "execution_count": null,
   "metadata": {
    "collapsed": false
   },
   "outputs": [],
   "source": [
    "import pandas as pd\n",
    "reviews = pd.read_csv(\"https://pythondata.blob.core.windows.net/data/Book%20Reviews%20from%20Amazon.tsv\", sep='\\t', names=['Score', 'Description'])\n",
    "train, test = reviews[:len(reviews)//2], reviews[len(reviews)//2:]\n",
    "print('There are', len(reviews), 'reviews total')"
   ]
  },
  {
   "cell_type": "markdown",
   "metadata": {},
   "source": [
    "We'll get you started by showing you some of the rows of the data.  Pandas makes it easy to look at the data using Python's slicing syntax:  "
   ]
  },
  {
   "cell_type": "code",
   "execution_count": null,
   "metadata": {
    "collapsed": false
   },
   "outputs": [],
   "source": [
    "reviews[:10]"
   ]
  },
  {
   "cell_type": "markdown",
   "metadata": {},
   "source": [
    "Pandas also makes it easy to select just a single column which you can do various operations on.  For example below we get the description column for the first 20 rows and get all of the unique words out:"
   ]
  },
  {
   "cell_type": "code",
   "execution_count": null,
   "metadata": {
    "collapsed": false
   },
   "outputs": [],
   "source": [
    "set('\\n'.join(reviews['Description'][:20]).split())"
   ]
  },
  {
   "cell_type": "markdown",
   "metadata": {},
   "source": [
    "Now can you use Pandas to find the highest, lowest, and mean scores?"
   ]
  },
  {
   "cell_type": "code",
   "execution_count": null,
   "metadata": {
    "collapsed": false
   },
   "outputs": [],
   "source": []
  },
  {
   "cell_type": "markdown",
   "metadata": {},
   "source": [
    "Next, can you write a Pandas expression which gets all of the highest scoring reviews?"
   ]
  },
  {
   "cell_type": "code",
   "execution_count": null,
   "metadata": {
    "collapsed": false
   },
   "outputs": [],
   "source": []
  },
  {
   "cell_type": "markdown",
   "metadata": {},
   "source": [
    "Below we've written a function which returns a score for a given review.  Unfortunately we didn't do a very good job on it and it just returns a random value.  Can you make it better?  You can go wild here with whatever solution you'd like!  \n",
    "\n",
    "One simple possibility is looking for known words like \"great\", \"fantastic\", \"bad\", \"horrible\", etc...  \n",
    "\n",
    "If you're feeling more ambitious try using one of Python's great libraries for this.  scikit-learn includes feature extraction like TfidfVectorizer and CountVectorizer and many different classifiers like LinearSVC.     "
   ]
  },
  {
   "cell_type": "code",
   "execution_count": null,
   "metadata": {
    "collapsed": false
   },
   "outputs": [],
   "source": [
    "import random\n",
    "\n",
    "def score(description):\n",
    "    return random.randint(1, 5)\n"
   ]
  },
  {
   "cell_type": "markdown",
   "metadata": {},
   "source": [
    "Finally, let's see how you did!  We'll run your function against the book reviews."
   ]
  },
  {
   "cell_type": "code",
   "execution_count": null,
   "metadata": {
    "collapsed": false
   },
   "outputs": [],
   "source": [
    "right = wrong = 0\n",
    "for review in test.values:\n",
    "    result = score(review[1])\n",
    "    if result != review[0]:\n",
    "        wrong += 1\n",
    "    else:\n",
    "        right += 1\n",
    "        \n",
    "print(f'Your algorithm scored {right} right and {wrong} wrong ({right*100//len(test)}% correct)')"
   ]
  },
  {
   "cell_type": "code",
   "execution_count": null,
   "metadata": {
    "collapsed": true
   },
   "outputs": [],
   "source": []
  }
 ],
 "metadata": {
  "kernelspec": {
   "display_name": "Python 3.6",
   "language": "python",
   "name": "python36"
  },
  "language_info": {
   "codemirror_mode": {
    "name": "ipython",
    "version": 3
   },
   "file_extension": ".py",
   "mimetype": "text/x-python",
   "name": "python",
   "nbconvert_exporter": "python",
   "pygments_lexer": "ipython3",
   "version": "3.6.0"
  }
 },
 "nbformat": 4,
 "nbformat_minor": 2
}
